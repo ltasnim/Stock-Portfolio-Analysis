{
  "nbformat": 4,
  "nbformat_minor": 0,
  "metadata": {
    "colab": {
      "name": "Value at Risk in Python",
      "provenance": [],
      "collapsed_sections": []
    },
    "kernelspec": {
      "name": "python3",
      "display_name": "Python 3"
    },
    "language_info": {
      "name": "python"
    }
  },
  "cells": [
    {
      "cell_type": "code",
      "execution_count": 3,
      "metadata": {
        "colab": {
          "base_uri": "https://localhost:8080/"
        },
        "id": "UiuXV1wL4mIO",
        "outputId": "eaf66e72-4af9-4139-aea6-56c753c0930e"
      },
      "outputs": [
        {
          "output_type": "stream",
          "name": "stdout",
          "text": [
            "Collecting yfinance\n",
            "  Downloading yfinance-0.1.70-py2.py3-none-any.whl (26 kB)\n",
            "Collecting lxml>=4.5.1\n",
            "  Downloading lxml-4.7.1-cp37-cp37m-manylinux_2_17_x86_64.manylinux2014_x86_64.manylinux_2_24_x86_64.whl (6.4 MB)\n",
            "\u001b[K     |████████████████████████████████| 6.4 MB 7.4 MB/s \n",
            "\u001b[?25hRequirement already satisfied: pandas>=0.24.0 in /usr/local/lib/python3.7/dist-packages (from yfinance) (1.3.5)\n",
            "Requirement already satisfied: numpy>=1.15 in /usr/local/lib/python3.7/dist-packages (from yfinance) (1.19.5)\n",
            "Requirement already satisfied: multitasking>=0.0.7 in /usr/local/lib/python3.7/dist-packages (from yfinance) (0.0.10)\n",
            "Collecting requests>=2.26\n",
            "  Downloading requests-2.27.1-py2.py3-none-any.whl (63 kB)\n",
            "\u001b[K     |████████████████████████████████| 63 kB 1.8 MB/s \n",
            "\u001b[?25hRequirement already satisfied: pytz>=2017.3 in /usr/local/lib/python3.7/dist-packages (from pandas>=0.24.0->yfinance) (2018.9)\n",
            "Requirement already satisfied: python-dateutil>=2.7.3 in /usr/local/lib/python3.7/dist-packages (from pandas>=0.24.0->yfinance) (2.8.2)\n",
            "Requirement already satisfied: six>=1.5 in /usr/local/lib/python3.7/dist-packages (from python-dateutil>=2.7.3->pandas>=0.24.0->yfinance) (1.15.0)\n",
            "Requirement already satisfied: certifi>=2017.4.17 in /usr/local/lib/python3.7/dist-packages (from requests>=2.26->yfinance) (2021.10.8)\n",
            "Requirement already satisfied: charset-normalizer~=2.0.0 in /usr/local/lib/python3.7/dist-packages (from requests>=2.26->yfinance) (2.0.11)\n",
            "Requirement already satisfied: urllib3<1.27,>=1.21.1 in /usr/local/lib/python3.7/dist-packages (from requests>=2.26->yfinance) (1.24.3)\n",
            "Requirement already satisfied: idna<4,>=2.5 in /usr/local/lib/python3.7/dist-packages (from requests>=2.26->yfinance) (2.10)\n",
            "Installing collected packages: requests, lxml, yfinance\n",
            "  Attempting uninstall: requests\n",
            "    Found existing installation: requests 2.23.0\n",
            "    Uninstalling requests-2.23.0:\n",
            "      Successfully uninstalled requests-2.23.0\n",
            "  Attempting uninstall: lxml\n",
            "    Found existing installation: lxml 4.2.6\n",
            "    Uninstalling lxml-4.2.6:\n",
            "      Successfully uninstalled lxml-4.2.6\n",
            "\u001b[31mERROR: pip's dependency resolver does not currently take into account all the packages that are installed. This behaviour is the source of the following dependency conflicts.\n",
            "google-colab 1.0.0 requires requests~=2.23.0, but you have requests 2.27.1 which is incompatible.\n",
            "datascience 0.10.6 requires folium==0.2.1, but you have folium 0.8.3 which is incompatible.\u001b[0m\n",
            "Successfully installed lxml-4.7.1 requests-2.27.1 yfinance-0.1.70\n"
          ]
        }
      ],
      "source": [
        "pip install yfinance"
      ]
    },
    {
      "cell_type": "code",
      "source": [
        "import yfinance as yf, numpy as np, datetime as dt, matplotlib.pyplot as plt\n",
        "from scipy.stats import norm"
      ],
      "metadata": {
        "id": "QF0wLxf14xjs"
      },
      "execution_count": 22,
      "outputs": []
    },
    {
      "cell_type": "code",
      "source": [
        "# Companies\n",
        "tickers = ['AAPL','FB','C','DIS','F','MSFT','MS','GME','TLSA','AMZN']\n",
        "# Equally weighted portfolios \n",
        "weights = np.array([0.1, 0.1, 0.1, 0.1, 0.1, 0.1, 0.1, 0.1, 0.1, 0.1])"
      ],
      "metadata": {
        "id": "9O3z5RNN46iX"
      },
      "execution_count": 5,
      "outputs": []
    },
    {
      "cell_type": "code",
      "source": [
        "# Build a portfolio and calculate the daily returns \n",
        "start = dt.datetime(2019,1,1)\n",
        "end = dt.datetime.now()\n",
        "\n",
        "df = yf.download(tickers, start, end)['Adj Close']\n",
        "df"
      ],
      "metadata": {
        "colab": {
          "base_uri": "https://localhost:8080/",
          "height": 710
        },
        "id": "NwGZ6lvI5pxS",
        "outputId": "e60cbfa3-3ec4-41d6-8515-8be235692f17"
      },
      "execution_count": 6,
      "outputs": [
        {
          "output_type": "stream",
          "name": "stdout",
          "text": [
            "[*********************100%***********************]  10 of 10 completed\n"
          ]
        },
        {
          "output_type": "execute_result",
          "data": {
            "text/html": [
              "\n",
              "  <div id=\"df-b5c89fd4-1c09-443f-9590-16734cf2f9ba\">\n",
              "    <div class=\"colab-df-container\">\n",
              "      <div>\n",
              "<style scoped>\n",
              "    .dataframe tbody tr th:only-of-type {\n",
              "        vertical-align: middle;\n",
              "    }\n",
              "\n",
              "    .dataframe tbody tr th {\n",
              "        vertical-align: top;\n",
              "    }\n",
              "\n",
              "    .dataframe thead th {\n",
              "        text-align: right;\n",
              "    }\n",
              "</style>\n",
              "<table border=\"1\" class=\"dataframe\">\n",
              "  <thead>\n",
              "    <tr style=\"text-align: right;\">\n",
              "      <th></th>\n",
              "      <th>AAPL</th>\n",
              "      <th>AMZN</th>\n",
              "      <th>C</th>\n",
              "      <th>DIS</th>\n",
              "      <th>F</th>\n",
              "      <th>FB</th>\n",
              "      <th>GME</th>\n",
              "      <th>MS</th>\n",
              "      <th>MSFT</th>\n",
              "      <th>TLSA</th>\n",
              "    </tr>\n",
              "    <tr>\n",
              "      <th>Date</th>\n",
              "      <th></th>\n",
              "      <th></th>\n",
              "      <th></th>\n",
              "      <th></th>\n",
              "      <th></th>\n",
              "      <th></th>\n",
              "      <th></th>\n",
              "      <th></th>\n",
              "      <th></th>\n",
              "      <th></th>\n",
              "    </tr>\n",
              "  </thead>\n",
              "  <tbody>\n",
              "    <tr>\n",
              "      <th>2019-01-02</th>\n",
              "      <td>38.277527</td>\n",
              "      <td>1539.130005</td>\n",
              "      <td>48.169380</td>\n",
              "      <td>107.654343</td>\n",
              "      <td>7.210713</td>\n",
              "      <td>135.679993</td>\n",
              "      <td>12.641105</td>\n",
              "      <td>36.967560</td>\n",
              "      <td>97.782417</td>\n",
              "      <td>1.420568</td>\n",
              "    </tr>\n",
              "    <tr>\n",
              "      <th>2019-01-03</th>\n",
              "      <td>34.464794</td>\n",
              "      <td>1500.280029</td>\n",
              "      <td>47.296520</td>\n",
              "      <td>105.046211</td>\n",
              "      <td>7.101183</td>\n",
              "      <td>131.740005</td>\n",
              "      <td>12.544387</td>\n",
              "      <td>36.308727</td>\n",
              "      <td>94.185188</td>\n",
              "      <td>1.420568</td>\n",
              "    </tr>\n",
              "    <tr>\n",
              "      <th>2019-01-04</th>\n",
              "      <td>35.936073</td>\n",
              "      <td>1575.390015</td>\n",
              "      <td>49.609146</td>\n",
              "      <td>108.286606</td>\n",
              "      <td>7.375008</td>\n",
              "      <td>137.949997</td>\n",
              "      <td>14.739896</td>\n",
              "      <td>37.791084</td>\n",
              "      <td>98.565704</td>\n",
              "      <td>1.400560</td>\n",
              "    </tr>\n",
              "    <tr>\n",
              "      <th>2019-01-07</th>\n",
              "      <td>35.856091</td>\n",
              "      <td>1629.510010</td>\n",
              "      <td>50.041080</td>\n",
              "      <td>109.225136</td>\n",
              "      <td>7.566685</td>\n",
              "      <td>138.050003</td>\n",
              "      <td>14.972020</td>\n",
              "      <td>38.166256</td>\n",
              "      <td>98.691406</td>\n",
              "      <td>1.350540</td>\n",
              "    </tr>\n",
              "    <tr>\n",
              "      <th>2019-01-08</th>\n",
              "      <td>36.539616</td>\n",
              "      <td>1656.579956</td>\n",
              "      <td>49.906094</td>\n",
              "      <td>110.074753</td>\n",
              "      <td>7.639705</td>\n",
              "      <td>142.529999</td>\n",
              "      <td>15.291192</td>\n",
              "      <td>37.928345</td>\n",
              "      <td>99.406990</td>\n",
              "      <td>1.400560</td>\n",
              "    </tr>\n",
              "    <tr>\n",
              "      <th>...</th>\n",
              "      <td>...</td>\n",
              "      <td>...</td>\n",
              "      <td>...</td>\n",
              "      <td>...</td>\n",
              "      <td>...</td>\n",
              "      <td>...</td>\n",
              "      <td>...</td>\n",
              "      <td>...</td>\n",
              "      <td>...</td>\n",
              "      <td>...</td>\n",
              "    </tr>\n",
              "    <tr>\n",
              "      <th>2022-02-04</th>\n",
              "      <td>172.389999</td>\n",
              "      <td>3152.790039</td>\n",
              "      <td>66.080002</td>\n",
              "      <td>142.020004</td>\n",
              "      <td>17.959999</td>\n",
              "      <td>237.089996</td>\n",
              "      <td>102.339996</td>\n",
              "      <td>104.110001</td>\n",
              "      <td>305.940002</td>\n",
              "      <td>0.770000</td>\n",
              "    </tr>\n",
              "    <tr>\n",
              "      <th>2022-02-07</th>\n",
              "      <td>171.660004</td>\n",
              "      <td>3158.709961</td>\n",
              "      <td>66.360001</td>\n",
              "      <td>142.509995</td>\n",
              "      <td>17.889999</td>\n",
              "      <td>224.910004</td>\n",
              "      <td>102.339996</td>\n",
              "      <td>105.180000</td>\n",
              "      <td>300.950012</td>\n",
              "      <td>0.760000</td>\n",
              "    </tr>\n",
              "    <tr>\n",
              "      <th>2022-02-08</th>\n",
              "      <td>174.830002</td>\n",
              "      <td>3228.270020</td>\n",
              "      <td>67.120003</td>\n",
              "      <td>142.479996</td>\n",
              "      <td>17.719999</td>\n",
              "      <td>220.179993</td>\n",
              "      <td>115.599998</td>\n",
              "      <td>106.349998</td>\n",
              "      <td>304.559998</td>\n",
              "      <td>0.780000</td>\n",
              "    </tr>\n",
              "    <tr>\n",
              "      <th>2022-02-09</th>\n",
              "      <td>176.279999</td>\n",
              "      <td>3223.790039</td>\n",
              "      <td>67.839996</td>\n",
              "      <td>147.229996</td>\n",
              "      <td>18.350000</td>\n",
              "      <td>232.000000</td>\n",
              "      <td>124.290001</td>\n",
              "      <td>108.730003</td>\n",
              "      <td>311.209991</td>\n",
              "      <td>0.750000</td>\n",
              "    </tr>\n",
              "    <tr>\n",
              "      <th>2022-02-10</th>\n",
              "      <td>172.119995</td>\n",
              "      <td>3180.070068</td>\n",
              "      <td>67.500000</td>\n",
              "      <td>152.160004</td>\n",
              "      <td>18.080000</td>\n",
              "      <td>228.070007</td>\n",
              "      <td>122.470001</td>\n",
              "      <td>107.570000</td>\n",
              "      <td>302.380005</td>\n",
              "      <td>0.790000</td>\n",
              "    </tr>\n",
              "  </tbody>\n",
              "</table>\n",
              "<p>785 rows × 10 columns</p>\n",
              "</div>\n",
              "      <button class=\"colab-df-convert\" onclick=\"convertToInteractive('df-b5c89fd4-1c09-443f-9590-16734cf2f9ba')\"\n",
              "              title=\"Convert this dataframe to an interactive table.\"\n",
              "              style=\"display:none;\">\n",
              "        \n",
              "  <svg xmlns=\"http://www.w3.org/2000/svg\" height=\"24px\"viewBox=\"0 0 24 24\"\n",
              "       width=\"24px\">\n",
              "    <path d=\"M0 0h24v24H0V0z\" fill=\"none\"/>\n",
              "    <path d=\"M18.56 5.44l.94 2.06.94-2.06 2.06-.94-2.06-.94-.94-2.06-.94 2.06-2.06.94zm-11 1L8.5 8.5l.94-2.06 2.06-.94-2.06-.94L8.5 2.5l-.94 2.06-2.06.94zm10 10l.94 2.06.94-2.06 2.06-.94-2.06-.94-.94-2.06-.94 2.06-2.06.94z\"/><path d=\"M17.41 7.96l-1.37-1.37c-.4-.4-.92-.59-1.43-.59-.52 0-1.04.2-1.43.59L10.3 9.45l-7.72 7.72c-.78.78-.78 2.05 0 2.83L4 21.41c.39.39.9.59 1.41.59.51 0 1.02-.2 1.41-.59l7.78-7.78 2.81-2.81c.8-.78.8-2.07 0-2.86zM5.41 20L4 18.59l7.72-7.72 1.47 1.35L5.41 20z\"/>\n",
              "  </svg>\n",
              "      </button>\n",
              "      \n",
              "  <style>\n",
              "    .colab-df-container {\n",
              "      display:flex;\n",
              "      flex-wrap:wrap;\n",
              "      gap: 12px;\n",
              "    }\n",
              "\n",
              "    .colab-df-convert {\n",
              "      background-color: #E8F0FE;\n",
              "      border: none;\n",
              "      border-radius: 50%;\n",
              "      cursor: pointer;\n",
              "      display: none;\n",
              "      fill: #1967D2;\n",
              "      height: 32px;\n",
              "      padding: 0 0 0 0;\n",
              "      width: 32px;\n",
              "    }\n",
              "\n",
              "    .colab-df-convert:hover {\n",
              "      background-color: #E2EBFA;\n",
              "      box-shadow: 0px 1px 2px rgba(60, 64, 67, 0.3), 0px 1px 3px 1px rgba(60, 64, 67, 0.15);\n",
              "      fill: #174EA6;\n",
              "    }\n",
              "\n",
              "    [theme=dark] .colab-df-convert {\n",
              "      background-color: #3B4455;\n",
              "      fill: #D2E3FC;\n",
              "    }\n",
              "\n",
              "    [theme=dark] .colab-df-convert:hover {\n",
              "      background-color: #434B5C;\n",
              "      box-shadow: 0px 1px 3px 1px rgba(0, 0, 0, 0.15);\n",
              "      filter: drop-shadow(0px 1px 2px rgba(0, 0, 0, 0.3));\n",
              "      fill: #FFFFFF;\n",
              "    }\n",
              "  </style>\n",
              "\n",
              "      <script>\n",
              "        const buttonEl =\n",
              "          document.querySelector('#df-b5c89fd4-1c09-443f-9590-16734cf2f9ba button.colab-df-convert');\n",
              "        buttonEl.style.display =\n",
              "          google.colab.kernel.accessAllowed ? 'block' : 'none';\n",
              "\n",
              "        async function convertToInteractive(key) {\n",
              "          const element = document.querySelector('#df-b5c89fd4-1c09-443f-9590-16734cf2f9ba');\n",
              "          const dataTable =\n",
              "            await google.colab.kernel.invokeFunction('convertToInteractive',\n",
              "                                                     [key], {});\n",
              "          if (!dataTable) return;\n",
              "\n",
              "          const docLinkHtml = 'Like what you see? Visit the ' +\n",
              "            '<a target=\"_blank\" href=https://colab.research.google.com/notebooks/data_table.ipynb>data table notebook</a>'\n",
              "            + ' to learn more about interactive tables.';\n",
              "          element.innerHTML = '';\n",
              "          dataTable['output_type'] = 'display_data';\n",
              "          await google.colab.output.renderOutput(dataTable, element);\n",
              "          const docLink = document.createElement('div');\n",
              "          docLink.innerHTML = docLinkHtml;\n",
              "          element.appendChild(docLink);\n",
              "        }\n",
              "      </script>\n",
              "    </div>\n",
              "  </div>\n",
              "  "
            ],
            "text/plain": [
              "                  AAPL         AMZN  ...        MSFT      TLSA\n",
              "Date                                 ...                      \n",
              "2019-01-02   38.277527  1539.130005  ...   97.782417  1.420568\n",
              "2019-01-03   34.464794  1500.280029  ...   94.185188  1.420568\n",
              "2019-01-04   35.936073  1575.390015  ...   98.565704  1.400560\n",
              "2019-01-07   35.856091  1629.510010  ...   98.691406  1.350540\n",
              "2019-01-08   36.539616  1656.579956  ...   99.406990  1.400560\n",
              "...                ...          ...  ...         ...       ...\n",
              "2022-02-04  172.389999  3152.790039  ...  305.940002  0.770000\n",
              "2022-02-07  171.660004  3158.709961  ...  300.950012  0.760000\n",
              "2022-02-08  174.830002  3228.270020  ...  304.559998  0.780000\n",
              "2022-02-09  176.279999  3223.790039  ...  311.209991  0.750000\n",
              "2022-02-10  172.119995  3180.070068  ...  302.380005  0.790000\n",
              "\n",
              "[785 rows x 10 columns]"
            ]
          },
          "metadata": {},
          "execution_count": 6
        }
      ]
    },
    {
      "cell_type": "code",
      "source": [
        "returns = df.pct_change()\n",
        "returns"
      ],
      "metadata": {
        "colab": {
          "base_uri": "https://localhost:8080/",
          "height": 673
        },
        "id": "1EZVMG8u6ILD",
        "outputId": "f27ba735-2825-4e5b-e91c-620d88b585af"
      },
      "execution_count": 7,
      "outputs": [
        {
          "output_type": "execute_result",
          "data": {
            "text/html": [
              "\n",
              "  <div id=\"df-ed9d6a25-7e06-4202-8998-c0f2c0b2aab6\">\n",
              "    <div class=\"colab-df-container\">\n",
              "      <div>\n",
              "<style scoped>\n",
              "    .dataframe tbody tr th:only-of-type {\n",
              "        vertical-align: middle;\n",
              "    }\n",
              "\n",
              "    .dataframe tbody tr th {\n",
              "        vertical-align: top;\n",
              "    }\n",
              "\n",
              "    .dataframe thead th {\n",
              "        text-align: right;\n",
              "    }\n",
              "</style>\n",
              "<table border=\"1\" class=\"dataframe\">\n",
              "  <thead>\n",
              "    <tr style=\"text-align: right;\">\n",
              "      <th></th>\n",
              "      <th>AAPL</th>\n",
              "      <th>AMZN</th>\n",
              "      <th>C</th>\n",
              "      <th>DIS</th>\n",
              "      <th>F</th>\n",
              "      <th>FB</th>\n",
              "      <th>GME</th>\n",
              "      <th>MS</th>\n",
              "      <th>MSFT</th>\n",
              "      <th>TLSA</th>\n",
              "    </tr>\n",
              "    <tr>\n",
              "      <th>Date</th>\n",
              "      <th></th>\n",
              "      <th></th>\n",
              "      <th></th>\n",
              "      <th></th>\n",
              "      <th></th>\n",
              "      <th></th>\n",
              "      <th></th>\n",
              "      <th></th>\n",
              "      <th></th>\n",
              "      <th></th>\n",
              "    </tr>\n",
              "  </thead>\n",
              "  <tbody>\n",
              "    <tr>\n",
              "      <th>2019-01-02</th>\n",
              "      <td>NaN</td>\n",
              "      <td>NaN</td>\n",
              "      <td>NaN</td>\n",
              "      <td>NaN</td>\n",
              "      <td>NaN</td>\n",
              "      <td>NaN</td>\n",
              "      <td>NaN</td>\n",
              "      <td>NaN</td>\n",
              "      <td>NaN</td>\n",
              "      <td>NaN</td>\n",
              "    </tr>\n",
              "    <tr>\n",
              "      <th>2019-01-03</th>\n",
              "      <td>-0.099608</td>\n",
              "      <td>-0.025242</td>\n",
              "      <td>-0.018121</td>\n",
              "      <td>-0.024227</td>\n",
              "      <td>-0.015190</td>\n",
              "      <td>-0.029039</td>\n",
              "      <td>-0.007651</td>\n",
              "      <td>-0.017822</td>\n",
              "      <td>-0.036788</td>\n",
              "      <td>0.000000</td>\n",
              "    </tr>\n",
              "    <tr>\n",
              "      <th>2019-01-04</th>\n",
              "      <td>0.042689</td>\n",
              "      <td>0.050064</td>\n",
              "      <td>0.048896</td>\n",
              "      <td>0.030847</td>\n",
              "      <td>0.038560</td>\n",
              "      <td>0.047138</td>\n",
              "      <td>0.175019</td>\n",
              "      <td>0.040826</td>\n",
              "      <td>0.046510</td>\n",
              "      <td>-0.014084</td>\n",
              "    </tr>\n",
              "    <tr>\n",
              "      <th>2019-01-07</th>\n",
              "      <td>-0.002226</td>\n",
              "      <td>0.034353</td>\n",
              "      <td>0.008707</td>\n",
              "      <td>0.008667</td>\n",
              "      <td>0.025990</td>\n",
              "      <td>0.000725</td>\n",
              "      <td>0.015748</td>\n",
              "      <td>0.009928</td>\n",
              "      <td>0.001275</td>\n",
              "      <td>-0.035714</td>\n",
              "    </tr>\n",
              "    <tr>\n",
              "      <th>2019-01-08</th>\n",
              "      <td>0.019063</td>\n",
              "      <td>0.016612</td>\n",
              "      <td>-0.002698</td>\n",
              "      <td>0.007779</td>\n",
              "      <td>0.009650</td>\n",
              "      <td>0.032452</td>\n",
              "      <td>0.021318</td>\n",
              "      <td>-0.006234</td>\n",
              "      <td>0.007251</td>\n",
              "      <td>0.037037</td>\n",
              "    </tr>\n",
              "    <tr>\n",
              "      <th>...</th>\n",
              "      <td>...</td>\n",
              "      <td>...</td>\n",
              "      <td>...</td>\n",
              "      <td>...</td>\n",
              "      <td>...</td>\n",
              "      <td>...</td>\n",
              "      <td>...</td>\n",
              "      <td>...</td>\n",
              "      <td>...</td>\n",
              "      <td>...</td>\n",
              "    </tr>\n",
              "    <tr>\n",
              "      <th>2022-02-04</th>\n",
              "      <td>-0.001679</td>\n",
              "      <td>0.135359</td>\n",
              "      <td>0.020541</td>\n",
              "      <td>0.014211</td>\n",
              "      <td>-0.097034</td>\n",
              "      <td>-0.002818</td>\n",
              "      <td>0.031341</td>\n",
              "      <td>0.017793</td>\n",
              "      <td>0.015568</td>\n",
              "      <td>-0.037500</td>\n",
              "    </tr>\n",
              "    <tr>\n",
              "      <th>2022-02-07</th>\n",
              "      <td>-0.004235</td>\n",
              "      <td>0.001878</td>\n",
              "      <td>0.004237</td>\n",
              "      <td>0.003450</td>\n",
              "      <td>-0.003898</td>\n",
              "      <td>-0.051373</td>\n",
              "      <td>0.000000</td>\n",
              "      <td>0.010278</td>\n",
              "      <td>-0.016310</td>\n",
              "      <td>-0.012987</td>\n",
              "    </tr>\n",
              "    <tr>\n",
              "      <th>2022-02-08</th>\n",
              "      <td>0.018467</td>\n",
              "      <td>0.022022</td>\n",
              "      <td>0.011453</td>\n",
              "      <td>-0.000211</td>\n",
              "      <td>-0.009503</td>\n",
              "      <td>-0.021031</td>\n",
              "      <td>0.129568</td>\n",
              "      <td>0.011124</td>\n",
              "      <td>0.011995</td>\n",
              "      <td>0.026316</td>\n",
              "    </tr>\n",
              "    <tr>\n",
              "      <th>2022-02-09</th>\n",
              "      <td>0.008294</td>\n",
              "      <td>-0.001388</td>\n",
              "      <td>0.010727</td>\n",
              "      <td>0.033338</td>\n",
              "      <td>0.035553</td>\n",
              "      <td>0.053683</td>\n",
              "      <td>0.075173</td>\n",
              "      <td>0.022379</td>\n",
              "      <td>0.021835</td>\n",
              "      <td>-0.038462</td>\n",
              "    </tr>\n",
              "    <tr>\n",
              "      <th>2022-02-10</th>\n",
              "      <td>-0.023599</td>\n",
              "      <td>-0.013562</td>\n",
              "      <td>-0.005012</td>\n",
              "      <td>0.033485</td>\n",
              "      <td>-0.014714</td>\n",
              "      <td>-0.016940</td>\n",
              "      <td>-0.014643</td>\n",
              "      <td>-0.010669</td>\n",
              "      <td>-0.028373</td>\n",
              "      <td>0.053333</td>\n",
              "    </tr>\n",
              "  </tbody>\n",
              "</table>\n",
              "<p>785 rows × 10 columns</p>\n",
              "</div>\n",
              "      <button class=\"colab-df-convert\" onclick=\"convertToInteractive('df-ed9d6a25-7e06-4202-8998-c0f2c0b2aab6')\"\n",
              "              title=\"Convert this dataframe to an interactive table.\"\n",
              "              style=\"display:none;\">\n",
              "        \n",
              "  <svg xmlns=\"http://www.w3.org/2000/svg\" height=\"24px\"viewBox=\"0 0 24 24\"\n",
              "       width=\"24px\">\n",
              "    <path d=\"M0 0h24v24H0V0z\" fill=\"none\"/>\n",
              "    <path d=\"M18.56 5.44l.94 2.06.94-2.06 2.06-.94-2.06-.94-.94-2.06-.94 2.06-2.06.94zm-11 1L8.5 8.5l.94-2.06 2.06-.94-2.06-.94L8.5 2.5l-.94 2.06-2.06.94zm10 10l.94 2.06.94-2.06 2.06-.94-2.06-.94-.94-2.06-.94 2.06-2.06.94z\"/><path d=\"M17.41 7.96l-1.37-1.37c-.4-.4-.92-.59-1.43-.59-.52 0-1.04.2-1.43.59L10.3 9.45l-7.72 7.72c-.78.78-.78 2.05 0 2.83L4 21.41c.39.39.9.59 1.41.59.51 0 1.02-.2 1.41-.59l7.78-7.78 2.81-2.81c.8-.78.8-2.07 0-2.86zM5.41 20L4 18.59l7.72-7.72 1.47 1.35L5.41 20z\"/>\n",
              "  </svg>\n",
              "      </button>\n",
              "      \n",
              "  <style>\n",
              "    .colab-df-container {\n",
              "      display:flex;\n",
              "      flex-wrap:wrap;\n",
              "      gap: 12px;\n",
              "    }\n",
              "\n",
              "    .colab-df-convert {\n",
              "      background-color: #E8F0FE;\n",
              "      border: none;\n",
              "      border-radius: 50%;\n",
              "      cursor: pointer;\n",
              "      display: none;\n",
              "      fill: #1967D2;\n",
              "      height: 32px;\n",
              "      padding: 0 0 0 0;\n",
              "      width: 32px;\n",
              "    }\n",
              "\n",
              "    .colab-df-convert:hover {\n",
              "      background-color: #E2EBFA;\n",
              "      box-shadow: 0px 1px 2px rgba(60, 64, 67, 0.3), 0px 1px 3px 1px rgba(60, 64, 67, 0.15);\n",
              "      fill: #174EA6;\n",
              "    }\n",
              "\n",
              "    [theme=dark] .colab-df-convert {\n",
              "      background-color: #3B4455;\n",
              "      fill: #D2E3FC;\n",
              "    }\n",
              "\n",
              "    [theme=dark] .colab-df-convert:hover {\n",
              "      background-color: #434B5C;\n",
              "      box-shadow: 0px 1px 3px 1px rgba(0, 0, 0, 0.15);\n",
              "      filter: drop-shadow(0px 1px 2px rgba(0, 0, 0, 0.3));\n",
              "      fill: #FFFFFF;\n",
              "    }\n",
              "  </style>\n",
              "\n",
              "      <script>\n",
              "        const buttonEl =\n",
              "          document.querySelector('#df-ed9d6a25-7e06-4202-8998-c0f2c0b2aab6 button.colab-df-convert');\n",
              "        buttonEl.style.display =\n",
              "          google.colab.kernel.accessAllowed ? 'block' : 'none';\n",
              "\n",
              "        async function convertToInteractive(key) {\n",
              "          const element = document.querySelector('#df-ed9d6a25-7e06-4202-8998-c0f2c0b2aab6');\n",
              "          const dataTable =\n",
              "            await google.colab.kernel.invokeFunction('convertToInteractive',\n",
              "                                                     [key], {});\n",
              "          if (!dataTable) return;\n",
              "\n",
              "          const docLinkHtml = 'Like what you see? Visit the ' +\n",
              "            '<a target=\"_blank\" href=https://colab.research.google.com/notebooks/data_table.ipynb>data table notebook</a>'\n",
              "            + ' to learn more about interactive tables.';\n",
              "          element.innerHTML = '';\n",
              "          dataTable['output_type'] = 'display_data';\n",
              "          await google.colab.output.renderOutput(dataTable, element);\n",
              "          const docLink = document.createElement('div');\n",
              "          docLink.innerHTML = docLinkHtml;\n",
              "          element.appendChild(docLink);\n",
              "        }\n",
              "      </script>\n",
              "    </div>\n",
              "  </div>\n",
              "  "
            ],
            "text/plain": [
              "                AAPL      AMZN         C  ...        MS      MSFT      TLSA\n",
              "Date                                      ...                              \n",
              "2019-01-02       NaN       NaN       NaN  ...       NaN       NaN       NaN\n",
              "2019-01-03 -0.099608 -0.025242 -0.018121  ... -0.017822 -0.036788  0.000000\n",
              "2019-01-04  0.042689  0.050064  0.048896  ...  0.040826  0.046510 -0.014084\n",
              "2019-01-07 -0.002226  0.034353  0.008707  ...  0.009928  0.001275 -0.035714\n",
              "2019-01-08  0.019063  0.016612 -0.002698  ... -0.006234  0.007251  0.037037\n",
              "...              ...       ...       ...  ...       ...       ...       ...\n",
              "2022-02-04 -0.001679  0.135359  0.020541  ...  0.017793  0.015568 -0.037500\n",
              "2022-02-07 -0.004235  0.001878  0.004237  ...  0.010278 -0.016310 -0.012987\n",
              "2022-02-08  0.018467  0.022022  0.011453  ...  0.011124  0.011995  0.026316\n",
              "2022-02-09  0.008294 -0.001388  0.010727  ...  0.022379  0.021835 -0.038462\n",
              "2022-02-10 -0.023599 -0.013562 -0.005012  ... -0.010669 -0.028373  0.053333\n",
              "\n",
              "[785 rows x 10 columns]"
            ]
          },
          "metadata": {},
          "execution_count": 7
        }
      ]
    },
    {
      "cell_type": "code",
      "source": [
        "# Calculate the Variance-Covariance Matrix\n",
        "cov_matrix = returns.cov()\n",
        "cov_matrix"
      ],
      "metadata": {
        "colab": {
          "base_uri": "https://localhost:8080/",
          "height": 407
        },
        "id": "eJkJFEXQ6hB6",
        "outputId": "17e0c327-32d5-40f2-bae7-c6ce25be5e16"
      },
      "execution_count": 8,
      "outputs": [
        {
          "output_type": "execute_result",
          "data": {
            "text/html": [
              "\n",
              "  <div id=\"df-a734014d-8ba5-4df4-b972-a2e0f5239c7c\">\n",
              "    <div class=\"colab-df-container\">\n",
              "      <div>\n",
              "<style scoped>\n",
              "    .dataframe tbody tr th:only-of-type {\n",
              "        vertical-align: middle;\n",
              "    }\n",
              "\n",
              "    .dataframe tbody tr th {\n",
              "        vertical-align: top;\n",
              "    }\n",
              "\n",
              "    .dataframe thead th {\n",
              "        text-align: right;\n",
              "    }\n",
              "</style>\n",
              "<table border=\"1\" class=\"dataframe\">\n",
              "  <thead>\n",
              "    <tr style=\"text-align: right;\">\n",
              "      <th></th>\n",
              "      <th>AAPL</th>\n",
              "      <th>AMZN</th>\n",
              "      <th>C</th>\n",
              "      <th>DIS</th>\n",
              "      <th>F</th>\n",
              "      <th>FB</th>\n",
              "      <th>GME</th>\n",
              "      <th>MS</th>\n",
              "      <th>MSFT</th>\n",
              "      <th>TLSA</th>\n",
              "    </tr>\n",
              "  </thead>\n",
              "  <tbody>\n",
              "    <tr>\n",
              "      <th>AAPL</th>\n",
              "      <td>0.000459</td>\n",
              "      <td>0.000263</td>\n",
              "      <td>0.000267</td>\n",
              "      <td>0.000191</td>\n",
              "      <td>0.000202</td>\n",
              "      <td>0.000317</td>\n",
              "      <td>0.000268</td>\n",
              "      <td>0.000273</td>\n",
              "      <td>0.000316</td>\n",
              "      <td>0.000070</td>\n",
              "    </tr>\n",
              "    <tr>\n",
              "      <th>AMZN</th>\n",
              "      <td>0.000263</td>\n",
              "      <td>0.000377</td>\n",
              "      <td>0.000141</td>\n",
              "      <td>0.000134</td>\n",
              "      <td>0.000085</td>\n",
              "      <td>0.000288</td>\n",
              "      <td>0.000135</td>\n",
              "      <td>0.000146</td>\n",
              "      <td>0.000253</td>\n",
              "      <td>0.000044</td>\n",
              "    </tr>\n",
              "    <tr>\n",
              "      <th>C</th>\n",
              "      <td>0.000267</td>\n",
              "      <td>0.000141</td>\n",
              "      <td>0.000748</td>\n",
              "      <td>0.000373</td>\n",
              "      <td>0.000461</td>\n",
              "      <td>0.000240</td>\n",
              "      <td>0.000465</td>\n",
              "      <td>0.000559</td>\n",
              "      <td>0.000250</td>\n",
              "      <td>-0.000119</td>\n",
              "    </tr>\n",
              "    <tr>\n",
              "      <th>DIS</th>\n",
              "      <td>0.000191</td>\n",
              "      <td>0.000134</td>\n",
              "      <td>0.000373</td>\n",
              "      <td>0.000466</td>\n",
              "      <td>0.000288</td>\n",
              "      <td>0.000199</td>\n",
              "      <td>0.000165</td>\n",
              "      <td>0.000324</td>\n",
              "      <td>0.000194</td>\n",
              "      <td>-0.000099</td>\n",
              "    </tr>\n",
              "    <tr>\n",
              "      <th>F</th>\n",
              "      <td>0.000202</td>\n",
              "      <td>0.000085</td>\n",
              "      <td>0.000461</td>\n",
              "      <td>0.000288</td>\n",
              "      <td>0.000782</td>\n",
              "      <td>0.000180</td>\n",
              "      <td>0.000451</td>\n",
              "      <td>0.000407</td>\n",
              "      <td>0.000168</td>\n",
              "      <td>0.000069</td>\n",
              "    </tr>\n",
              "    <tr>\n",
              "      <th>FB</th>\n",
              "      <td>0.000317</td>\n",
              "      <td>0.000288</td>\n",
              "      <td>0.000240</td>\n",
              "      <td>0.000199</td>\n",
              "      <td>0.000180</td>\n",
              "      <td>0.000590</td>\n",
              "      <td>0.000148</td>\n",
              "      <td>0.000231</td>\n",
              "      <td>0.000298</td>\n",
              "      <td>0.000135</td>\n",
              "    </tr>\n",
              "    <tr>\n",
              "      <th>GME</th>\n",
              "      <td>0.000268</td>\n",
              "      <td>0.000135</td>\n",
              "      <td>0.000465</td>\n",
              "      <td>0.000165</td>\n",
              "      <td>0.000451</td>\n",
              "      <td>0.000148</td>\n",
              "      <td>0.011892</td>\n",
              "      <td>0.000257</td>\n",
              "      <td>0.000167</td>\n",
              "      <td>-0.000259</td>\n",
              "    </tr>\n",
              "    <tr>\n",
              "      <th>MS</th>\n",
              "      <td>0.000273</td>\n",
              "      <td>0.000146</td>\n",
              "      <td>0.000559</td>\n",
              "      <td>0.000324</td>\n",
              "      <td>0.000407</td>\n",
              "      <td>0.000231</td>\n",
              "      <td>0.000257</td>\n",
              "      <td>0.000592</td>\n",
              "      <td>0.000256</td>\n",
              "      <td>-0.000056</td>\n",
              "    </tr>\n",
              "    <tr>\n",
              "      <th>MSFT</th>\n",
              "      <td>0.000316</td>\n",
              "      <td>0.000253</td>\n",
              "      <td>0.000250</td>\n",
              "      <td>0.000194</td>\n",
              "      <td>0.000168</td>\n",
              "      <td>0.000298</td>\n",
              "      <td>0.000167</td>\n",
              "      <td>0.000256</td>\n",
              "      <td>0.000367</td>\n",
              "      <td>-0.000017</td>\n",
              "    </tr>\n",
              "    <tr>\n",
              "      <th>TLSA</th>\n",
              "      <td>0.000070</td>\n",
              "      <td>0.000044</td>\n",
              "      <td>-0.000119</td>\n",
              "      <td>-0.000099</td>\n",
              "      <td>0.000069</td>\n",
              "      <td>0.000135</td>\n",
              "      <td>-0.000259</td>\n",
              "      <td>-0.000056</td>\n",
              "      <td>-0.000017</td>\n",
              "      <td>0.006885</td>\n",
              "    </tr>\n",
              "  </tbody>\n",
              "</table>\n",
              "</div>\n",
              "      <button class=\"colab-df-convert\" onclick=\"convertToInteractive('df-a734014d-8ba5-4df4-b972-a2e0f5239c7c')\"\n",
              "              title=\"Convert this dataframe to an interactive table.\"\n",
              "              style=\"display:none;\">\n",
              "        \n",
              "  <svg xmlns=\"http://www.w3.org/2000/svg\" height=\"24px\"viewBox=\"0 0 24 24\"\n",
              "       width=\"24px\">\n",
              "    <path d=\"M0 0h24v24H0V0z\" fill=\"none\"/>\n",
              "    <path d=\"M18.56 5.44l.94 2.06.94-2.06 2.06-.94-2.06-.94-.94-2.06-.94 2.06-2.06.94zm-11 1L8.5 8.5l.94-2.06 2.06-.94-2.06-.94L8.5 2.5l-.94 2.06-2.06.94zm10 10l.94 2.06.94-2.06 2.06-.94-2.06-.94-.94-2.06-.94 2.06-2.06.94z\"/><path d=\"M17.41 7.96l-1.37-1.37c-.4-.4-.92-.59-1.43-.59-.52 0-1.04.2-1.43.59L10.3 9.45l-7.72 7.72c-.78.78-.78 2.05 0 2.83L4 21.41c.39.39.9.59 1.41.59.51 0 1.02-.2 1.41-.59l7.78-7.78 2.81-2.81c.8-.78.8-2.07 0-2.86zM5.41 20L4 18.59l7.72-7.72 1.47 1.35L5.41 20z\"/>\n",
              "  </svg>\n",
              "      </button>\n",
              "      \n",
              "  <style>\n",
              "    .colab-df-container {\n",
              "      display:flex;\n",
              "      flex-wrap:wrap;\n",
              "      gap: 12px;\n",
              "    }\n",
              "\n",
              "    .colab-df-convert {\n",
              "      background-color: #E8F0FE;\n",
              "      border: none;\n",
              "      border-radius: 50%;\n",
              "      cursor: pointer;\n",
              "      display: none;\n",
              "      fill: #1967D2;\n",
              "      height: 32px;\n",
              "      padding: 0 0 0 0;\n",
              "      width: 32px;\n",
              "    }\n",
              "\n",
              "    .colab-df-convert:hover {\n",
              "      background-color: #E2EBFA;\n",
              "      box-shadow: 0px 1px 2px rgba(60, 64, 67, 0.3), 0px 1px 3px 1px rgba(60, 64, 67, 0.15);\n",
              "      fill: #174EA6;\n",
              "    }\n",
              "\n",
              "    [theme=dark] .colab-df-convert {\n",
              "      background-color: #3B4455;\n",
              "      fill: #D2E3FC;\n",
              "    }\n",
              "\n",
              "    [theme=dark] .colab-df-convert:hover {\n",
              "      background-color: #434B5C;\n",
              "      box-shadow: 0px 1px 3px 1px rgba(0, 0, 0, 0.15);\n",
              "      filter: drop-shadow(0px 1px 2px rgba(0, 0, 0, 0.3));\n",
              "      fill: #FFFFFF;\n",
              "    }\n",
              "  </style>\n",
              "\n",
              "      <script>\n",
              "        const buttonEl =\n",
              "          document.querySelector('#df-a734014d-8ba5-4df4-b972-a2e0f5239c7c button.colab-df-convert');\n",
              "        buttonEl.style.display =\n",
              "          google.colab.kernel.accessAllowed ? 'block' : 'none';\n",
              "\n",
              "        async function convertToInteractive(key) {\n",
              "          const element = document.querySelector('#df-a734014d-8ba5-4df4-b972-a2e0f5239c7c');\n",
              "          const dataTable =\n",
              "            await google.colab.kernel.invokeFunction('convertToInteractive',\n",
              "                                                     [key], {});\n",
              "          if (!dataTable) return;\n",
              "\n",
              "          const docLinkHtml = 'Like what you see? Visit the ' +\n",
              "            '<a target=\"_blank\" href=https://colab.research.google.com/notebooks/data_table.ipynb>data table notebook</a>'\n",
              "            + ' to learn more about interactive tables.';\n",
              "          element.innerHTML = '';\n",
              "          dataTable['output_type'] = 'display_data';\n",
              "          await google.colab.output.renderOutput(dataTable, element);\n",
              "          const docLink = document.createElement('div');\n",
              "          docLink.innerHTML = docLinkHtml;\n",
              "          element.appendChild(docLink);\n",
              "        }\n",
              "      </script>\n",
              "    </div>\n",
              "  </div>\n",
              "  "
            ],
            "text/plain": [
              "          AAPL      AMZN         C  ...        MS      MSFT      TLSA\n",
              "AAPL  0.000459  0.000263  0.000267  ...  0.000273  0.000316  0.000070\n",
              "AMZN  0.000263  0.000377  0.000141  ...  0.000146  0.000253  0.000044\n",
              "C     0.000267  0.000141  0.000748  ...  0.000559  0.000250 -0.000119\n",
              "DIS   0.000191  0.000134  0.000373  ...  0.000324  0.000194 -0.000099\n",
              "F     0.000202  0.000085  0.000461  ...  0.000407  0.000168  0.000069\n",
              "FB    0.000317  0.000288  0.000240  ...  0.000231  0.000298  0.000135\n",
              "GME   0.000268  0.000135  0.000465  ...  0.000257  0.000167 -0.000259\n",
              "MS    0.000273  0.000146  0.000559  ...  0.000592  0.000256 -0.000056\n",
              "MSFT  0.000316  0.000253  0.000250  ...  0.000256  0.000367 -0.000017\n",
              "TLSA  0.000070  0.000044 -0.000119  ... -0.000056 -0.000017  0.006885\n",
              "\n",
              "[10 rows x 10 columns]"
            ]
          },
          "metadata": {},
          "execution_count": 8
        }
      ]
    },
    {
      "cell_type": "code",
      "source": [
        "# Calculate Portfolio Expected Return (mean)\n",
        "avg_returns = returns.mean()\n",
        "avg_returns"
      ],
      "metadata": {
        "colab": {
          "base_uri": "https://localhost:8080/"
        },
        "id": "6f4lOa7D8SFX",
        "outputId": "3b7a9986-5423-4a18-abd8-34daba26df1f"
      },
      "execution_count": 9,
      "outputs": [
        {
          "output_type": "execute_result",
          "data": {
            "text/plain": [
              "AAPL    0.002149\n",
              "AMZN    0.001113\n",
              "C       0.000807\n",
              "DIS     0.000672\n",
              "F       0.001559\n",
              "FB      0.000967\n",
              "GME     0.007880\n",
              "MS      0.001657\n",
              "MSFT    0.001625\n",
              "TLSA    0.002343\n",
              "dtype: float64"
            ]
          },
          "metadata": {},
          "execution_count": 9
        }
      ]
    },
    {
      "cell_type": "code",
      "source": [
        "# Calculate Portfolio Risk (std)\n",
        "std_returns = returns.std()\n",
        "std_returns"
      ],
      "metadata": {
        "colab": {
          "base_uri": "https://localhost:8080/"
        },
        "id": "Zc_F6wtl8gAO",
        "outputId": "d72256b7-dbc6-43ac-96be-cde50b08bebe"
      },
      "execution_count": 10,
      "outputs": [
        {
          "output_type": "execute_result",
          "data": {
            "text/plain": [
              "AAPL    0.021429\n",
              "AMZN    0.019416\n",
              "C       0.027349\n",
              "DIS     0.021582\n",
              "F       0.027957\n",
              "FB      0.024284\n",
              "GME     0.109048\n",
              "MS      0.024336\n",
              "MSFT    0.019163\n",
              "TLSA    0.082975\n",
              "dtype: float64"
            ]
          },
          "metadata": {},
          "execution_count": 10
        }
      ]
    },
    {
      "cell_type": "code",
      "source": [
        "# Number of dates available for company data\n",
        "count = returns.count()[0]\n",
        "count"
      ],
      "metadata": {
        "colab": {
          "base_uri": "https://localhost:8080/"
        },
        "id": "ci1EWqbM894a",
        "outputId": "0ae3c0eb-a3ee-4406-8ff4-361cee3012b0"
      },
      "execution_count": 11,
      "outputs": [
        {
          "output_type": "execute_result",
          "data": {
            "text/plain": [
              "784"
            ]
          },
          "metadata": {},
          "execution_count": 11
        }
      ]
    },
    {
      "cell_type": "code",
      "source": [
        "# Building the normal distribution curve using the results in SciPy library\n",
        "# @ represents matrix multiplication in Python \n",
        "port_mean = avg_returns @ weights \n",
        "port_std = np.sqrt(weights.T @ cov_matrix @ weights)"
      ],
      "metadata": {
        "id": "-YuQZoUy9JJ0"
      },
      "execution_count": 12,
      "outputs": []
    },
    {
      "cell_type": "code",
      "source": [
        "port_mean"
      ],
      "metadata": {
        "colab": {
          "base_uri": "https://localhost:8080/"
        },
        "id": "YieOCyJAnLqn",
        "outputId": "c2bbe2df-10be-43d8-9136-6c16615ea78f"
      },
      "execution_count": 13,
      "outputs": [
        {
          "output_type": "execute_result",
          "data": {
            "text/plain": [
              "0.0020771561857726713"
            ]
          },
          "metadata": {},
          "execution_count": 13
        }
      ]
    },
    {
      "cell_type": "code",
      "source": [
        "port_std"
      ],
      "metadata": {
        "colab": {
          "base_uri": "https://localhost:8080/"
        },
        "id": "AWvQFybbnddT",
        "outputId": "9708c2ae-6372-49d6-fd77-612e5e4bfcfd"
      },
      "execution_count": 14,
      "outputs": [
        {
          "output_type": "execute_result",
          "data": {
            "text/plain": [
              "0.020349982342641217"
            ]
          },
          "metadata": {},
          "execution_count": 14
        }
      ]
    },
    {
      "cell_type": "code",
      "source": [
        "x = np.arange(-0.05, 0.055, 0.001)\n",
        "norm_dist = norm.pdf(x, port_mean, port_std)\n",
        "norm_dist\n",
        "# Plotting the distribution\n",
        "plt.plot(x, norm_dist, color='r')\n",
        "plt.show()"
      ],
      "metadata": {
        "colab": {
          "base_uri": "https://localhost:8080/",
          "height": 265
        },
        "id": "2ozgJppPnfZc",
        "outputId": "8c1133bc-797c-437c-91b7-ca5aa40904ed"
      },
      "execution_count": 24,
      "outputs": [
        {
          "output_type": "display_data",
          "data": {
            "image/png": "[encoded data removed]",
            "text/plain": [
              "<Figure size 432x288 with 1 Axes>"
            ]
          },
          "metadata": {
            "needs_background": "light"
          }
        }
      ]
    },
    {
      "cell_type": "code",
      "source": [
        "# Calculate VaR, the probability of loss with 5% cofidence of interval \n",
        "# We have confidence that we won't lose more than x% in a day\n",
        "confidence_level = 0.05\n",
        "VaR = norm.ppf(confidence_level, port_mean, port_std)\n",
        "VaR"
      ],
      "metadata": {
        "colab": {
          "base_uri": "https://localhost:8080/"
        },
        "id": "nKkD51QFnt6R",
        "outputId": "1d00b2c0-e12d-4a60-c130-1548e6fb410b"
      },
      "execution_count": 26,
      "outputs": [
        {
          "output_type": "execute_result",
          "data": {
            "text/plain": [
              "-0.031395586078919166"
            ]
          },
          "metadata": {},
          "execution_count": 26
        }
      ]
    },
    {
      "cell_type": "code",
      "source": [
        "# In 5 days, my portfolio will not lose more than x% \n",
        "num_days = 5\n",
        "VaR * np.sqrt(num_days)"
      ],
      "metadata": {
        "colab": {
          "base_uri": "https://localhost:8080/"
        },
        "id": "vinucjYioHww",
        "outputId": "a7d5aa63-3709-4125-e3f4-42ca0908c4b3"
      },
      "execution_count": 27,
      "outputs": [
        {
          "output_type": "execute_result",
          "data": {
            "text/plain": [
              "-0.07020266466590934"
            ]
          },
          "metadata": {},
          "execution_count": 27
        }
      ]
    },
    {
      "cell_type": "code",
      "source": [
        "# Confindence level - we are confident that the daily return of the portfolio will be between the lower - higher range\n",
        "lower = port_mean - 2* port_std / np.sqrt(count)\n",
        "higher = port_mean + 2* port_std / np.sqrt(count)"
      ],
      "metadata": {
        "id": "FjwV84iSpvoU"
      },
      "execution_count": 31,
      "outputs": []
    },
    {
      "cell_type": "code",
      "source": [
        "lower"
      ],
      "metadata": {
        "colab": {
          "base_uri": "https://localhost:8080/"
        },
        "id": "wtpkhriBqTVK",
        "outputId": "20c79bf0-dac3-490c-8d82-cb6a0586b72d"
      },
      "execution_count": 32,
      "outputs": [
        {
          "output_type": "execute_result",
          "data": {
            "text/plain": [
              "0.0006235860184411557"
            ]
          },
          "metadata": {},
          "execution_count": 32
        }
      ]
    },
    {
      "cell_type": "code",
      "source": [
        "higher"
      ],
      "metadata": {
        "colab": {
          "base_uri": "https://localhost:8080/"
        },
        "id": "NEH4FSnzqUGY",
        "outputId": "64c6a915-f5c2-4ca8-f32d-e5331b6f2bd7"
      },
      "execution_count": 33,
      "outputs": [
        {
          "output_type": "execute_result",
          "data": {
            "text/plain": [
              "0.003530726353104187"
            ]
          },
          "metadata": {},
          "execution_count": 33
        }
      ]
    }
  ]
}